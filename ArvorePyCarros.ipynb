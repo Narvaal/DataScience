{
  "nbformat": 4,
  "nbformat_minor": 0,
  "metadata": {
    "colab": {
      "provenance": [],
      "authorship_tag": "ABX9TyPaNjI3ZSUBcAlykP5FCVQG",
      "include_colab_link": true
    },
    "kernelspec": {
      "name": "python3",
      "display_name": "Python 3"
    },
    "language_info": {
      "name": "python"
    }
  },
  "cells": [
    {
      "cell_type": "markdown",
      "metadata": {
        "id": "view-in-github",
        "colab_type": "text"
      },
      "source": [
        "<a href=\"https://colab.research.google.com/github/Narvaal/DataScience/blob/main/ArvorePyCarros.ipynb\" target=\"_parent\"><img src=\"https://colab.research.google.com/assets/colab-badge.svg\" alt=\"Open In Colab\"/></a>"
      ]
    },
    {
      "cell_type": "code",
      "source": [
        "# Use para dar upload no carros.csv e restaurante.csv\n",
        "# Basta executar o comando e escolher o arquivo CLICANDO NO BOTÃO PROCURAR ABAIXO. '\n",
        "import io\n",
        "uploaded = files.upload()"
      ],
      "metadata": {
        "colab": {
          "base_uri": "https://localhost:8080/",
          "height": 74
        },
        "id": "9g8mGSGjp-O3",
        "outputId": "67ec9264-2777-48a3-f20f-a605cff04c5c"
      },
      "execution_count": 136,
      "outputs": [
        {
          "output_type": "display_data",
          "data": {
            "text/plain": [
              "<IPython.core.display.HTML object>"
            ],
            "text/html": [
              "\n",
              "     <input type=\"file\" id=\"files-5b7315cb-fa6f-4061-9fed-1245ec12e157\" name=\"files[]\" multiple disabled\n",
              "        style=\"border:none\" />\n",
              "     <output id=\"result-5b7315cb-fa6f-4061-9fed-1245ec12e157\">\n",
              "      Upload widget is only available when the cell has been executed in the\n",
              "      current browser session. Please rerun this cell to enable.\n",
              "      </output>\n",
              "      <script>// Copyright 2017 Google LLC\n",
              "//\n",
              "// Licensed under the Apache License, Version 2.0 (the \"License\");\n",
              "// you may not use this file except in compliance with the License.\n",
              "// You may obtain a copy of the License at\n",
              "//\n",
              "//      http://www.apache.org/licenses/LICENSE-2.0\n",
              "//\n",
              "// Unless required by applicable law or agreed to in writing, software\n",
              "// distributed under the License is distributed on an \"AS IS\" BASIS,\n",
              "// WITHOUT WARRANTIES OR CONDITIONS OF ANY KIND, either express or implied.\n",
              "// See the License for the specific language governing permissions and\n",
              "// limitations under the License.\n",
              "\n",
              "/**\n",
              " * @fileoverview Helpers for google.colab Python module.\n",
              " */\n",
              "(function(scope) {\n",
              "function span(text, styleAttributes = {}) {\n",
              "  const element = document.createElement('span');\n",
              "  element.textContent = text;\n",
              "  for (const key of Object.keys(styleAttributes)) {\n",
              "    element.style[key] = styleAttributes[key];\n",
              "  }\n",
              "  return element;\n",
              "}\n",
              "\n",
              "// Max number of bytes which will be uploaded at a time.\n",
              "const MAX_PAYLOAD_SIZE = 100 * 1024;\n",
              "\n",
              "function _uploadFiles(inputId, outputId) {\n",
              "  const steps = uploadFilesStep(inputId, outputId);\n",
              "  const outputElement = document.getElementById(outputId);\n",
              "  // Cache steps on the outputElement to make it available for the next call\n",
              "  // to uploadFilesContinue from Python.\n",
              "  outputElement.steps = steps;\n",
              "\n",
              "  return _uploadFilesContinue(outputId);\n",
              "}\n",
              "\n",
              "// This is roughly an async generator (not supported in the browser yet),\n",
              "// where there are multiple asynchronous steps and the Python side is going\n",
              "// to poll for completion of each step.\n",
              "// This uses a Promise to block the python side on completion of each step,\n",
              "// then passes the result of the previous step as the input to the next step.\n",
              "function _uploadFilesContinue(outputId) {\n",
              "  const outputElement = document.getElementById(outputId);\n",
              "  const steps = outputElement.steps;\n",
              "\n",
              "  const next = steps.next(outputElement.lastPromiseValue);\n",
              "  return Promise.resolve(next.value.promise).then((value) => {\n",
              "    // Cache the last promise value to make it available to the next\n",
              "    // step of the generator.\n",
              "    outputElement.lastPromiseValue = value;\n",
              "    return next.value.response;\n",
              "  });\n",
              "}\n",
              "\n",
              "/**\n",
              " * Generator function which is called between each async step of the upload\n",
              " * process.\n",
              " * @param {string} inputId Element ID of the input file picker element.\n",
              " * @param {string} outputId Element ID of the output display.\n",
              " * @return {!Iterable<!Object>} Iterable of next steps.\n",
              " */\n",
              "function* uploadFilesStep(inputId, outputId) {\n",
              "  const inputElement = document.getElementById(inputId);\n",
              "  inputElement.disabled = false;\n",
              "\n",
              "  const outputElement = document.getElementById(outputId);\n",
              "  outputElement.innerHTML = '';\n",
              "\n",
              "  const pickedPromise = new Promise((resolve) => {\n",
              "    inputElement.addEventListener('change', (e) => {\n",
              "      resolve(e.target.files);\n",
              "    });\n",
              "  });\n",
              "\n",
              "  const cancel = document.createElement('button');\n",
              "  inputElement.parentElement.appendChild(cancel);\n",
              "  cancel.textContent = 'Cancel upload';\n",
              "  const cancelPromise = new Promise((resolve) => {\n",
              "    cancel.onclick = () => {\n",
              "      resolve(null);\n",
              "    };\n",
              "  });\n",
              "\n",
              "  // Wait for the user to pick the files.\n",
              "  const files = yield {\n",
              "    promise: Promise.race([pickedPromise, cancelPromise]),\n",
              "    response: {\n",
              "      action: 'starting',\n",
              "    }\n",
              "  };\n",
              "\n",
              "  cancel.remove();\n",
              "\n",
              "  // Disable the input element since further picks are not allowed.\n",
              "  inputElement.disabled = true;\n",
              "\n",
              "  if (!files) {\n",
              "    return {\n",
              "      response: {\n",
              "        action: 'complete',\n",
              "      }\n",
              "    };\n",
              "  }\n",
              "\n",
              "  for (const file of files) {\n",
              "    const li = document.createElement('li');\n",
              "    li.append(span(file.name, {fontWeight: 'bold'}));\n",
              "    li.append(span(\n",
              "        `(${file.type || 'n/a'}) - ${file.size} bytes, ` +\n",
              "        `last modified: ${\n",
              "            file.lastModifiedDate ? file.lastModifiedDate.toLocaleDateString() :\n",
              "                                    'n/a'} - `));\n",
              "    const percent = span('0% done');\n",
              "    li.appendChild(percent);\n",
              "\n",
              "    outputElement.appendChild(li);\n",
              "\n",
              "    const fileDataPromise = new Promise((resolve) => {\n",
              "      const reader = new FileReader();\n",
              "      reader.onload = (e) => {\n",
              "        resolve(e.target.result);\n",
              "      };\n",
              "      reader.readAsArrayBuffer(file);\n",
              "    });\n",
              "    // Wait for the data to be ready.\n",
              "    let fileData = yield {\n",
              "      promise: fileDataPromise,\n",
              "      response: {\n",
              "        action: 'continue',\n",
              "      }\n",
              "    };\n",
              "\n",
              "    // Use a chunked sending to avoid message size limits. See b/62115660.\n",
              "    let position = 0;\n",
              "    do {\n",
              "      const length = Math.min(fileData.byteLength - position, MAX_PAYLOAD_SIZE);\n",
              "      const chunk = new Uint8Array(fileData, position, length);\n",
              "      position += length;\n",
              "\n",
              "      const base64 = btoa(String.fromCharCode.apply(null, chunk));\n",
              "      yield {\n",
              "        response: {\n",
              "          action: 'append',\n",
              "          file: file.name,\n",
              "          data: base64,\n",
              "        },\n",
              "      };\n",
              "\n",
              "      let percentDone = fileData.byteLength === 0 ?\n",
              "          100 :\n",
              "          Math.round((position / fileData.byteLength) * 100);\n",
              "      percent.textContent = `${percentDone}% done`;\n",
              "\n",
              "    } while (position < fileData.byteLength);\n",
              "  }\n",
              "\n",
              "  // All done.\n",
              "  yield {\n",
              "    response: {\n",
              "      action: 'complete',\n",
              "    }\n",
              "  };\n",
              "}\n",
              "\n",
              "scope.google = scope.google || {};\n",
              "scope.google.colab = scope.google.colab || {};\n",
              "scope.google.colab._files = {\n",
              "  _uploadFiles,\n",
              "  _uploadFilesContinue,\n",
              "};\n",
              "})(self);\n",
              "</script> "
            ]
          },
          "metadata": {}
        },
        {
          "output_type": "stream",
          "name": "stdout",
          "text": [
            "Saving carro.csv to carro.csv\n"
          ]
        }
      ]
    },
    {
      "cell_type": "markdown",
      "source": [
        "# **Implementação da árvore com a tabela Restaurantes**"
      ],
      "metadata": {
        "id": "yvKlY73U0K45"
      }
    },
    {
      "cell_type": "code",
      "source": [
        "import pandas as pd\n",
        "import seaborn as sns\n",
        "from google.colab import files\n",
        "\n",
        "# Lendo o CSV \n",
        "\n",
        "df = pd.read_csv('/content/restaurante.csv',encoding='ISO-8859-1',sep=';')\n",
        "\n",
        "# Removendo a coluna ID\n",
        "\n",
        "#df = df.drop('ID',axis=1)\n",
        "df.head()"
      ],
      "metadata": {
        "colab": {
          "base_uri": "https://localhost:8080/",
          "height": 206
        },
        "id": "SmyHptqBz0I0",
        "outputId": "93c22ce9-953c-4b7a-c551-94d6765fc45d"
      },
      "execution_count": 125,
      "outputs": [
        {
          "output_type": "execute_result",
          "data": {
            "text/plain": [
              "   ID     EP     QR    LE         R\n",
              "0  R1  Muita    Boa  Ruim     Lucro\n",
              "1  R2  Muita    Boa   Boa     Lucro\n",
              "2  R3  Pouca    Boa   Boa     Lucro\n",
              "3  R4  Pouca  Ótima  Ruim  Prejuízo\n",
              "4  R5  Pouca  Ótima   Boa  Prejuízo"
            ],
            "text/html": [
              "\n",
              "  <div id=\"df-4a52fa2c-ed98-43f4-8219-427c93d20ad4\">\n",
              "    <div class=\"colab-df-container\">\n",
              "      <div>\n",
              "<style scoped>\n",
              "    .dataframe tbody tr th:only-of-type {\n",
              "        vertical-align: middle;\n",
              "    }\n",
              "\n",
              "    .dataframe tbody tr th {\n",
              "        vertical-align: top;\n",
              "    }\n",
              "\n",
              "    .dataframe thead th {\n",
              "        text-align: right;\n",
              "    }\n",
              "</style>\n",
              "<table border=\"1\" class=\"dataframe\">\n",
              "  <thead>\n",
              "    <tr style=\"text-align: right;\">\n",
              "      <th></th>\n",
              "      <th>ID</th>\n",
              "      <th>EP</th>\n",
              "      <th>QR</th>\n",
              "      <th>LE</th>\n",
              "      <th>R</th>\n",
              "    </tr>\n",
              "  </thead>\n",
              "  <tbody>\n",
              "    <tr>\n",
              "      <th>0</th>\n",
              "      <td>R1</td>\n",
              "      <td>Muita</td>\n",
              "      <td>Boa</td>\n",
              "      <td>Ruim</td>\n",
              "      <td>Lucro</td>\n",
              "    </tr>\n",
              "    <tr>\n",
              "      <th>1</th>\n",
              "      <td>R2</td>\n",
              "      <td>Muita</td>\n",
              "      <td>Boa</td>\n",
              "      <td>Boa</td>\n",
              "      <td>Lucro</td>\n",
              "    </tr>\n",
              "    <tr>\n",
              "      <th>2</th>\n",
              "      <td>R3</td>\n",
              "      <td>Pouca</td>\n",
              "      <td>Boa</td>\n",
              "      <td>Boa</td>\n",
              "      <td>Lucro</td>\n",
              "    </tr>\n",
              "    <tr>\n",
              "      <th>3</th>\n",
              "      <td>R4</td>\n",
              "      <td>Pouca</td>\n",
              "      <td>Ótima</td>\n",
              "      <td>Ruim</td>\n",
              "      <td>Prejuízo</td>\n",
              "    </tr>\n",
              "    <tr>\n",
              "      <th>4</th>\n",
              "      <td>R5</td>\n",
              "      <td>Pouca</td>\n",
              "      <td>Ótima</td>\n",
              "      <td>Boa</td>\n",
              "      <td>Prejuízo</td>\n",
              "    </tr>\n",
              "  </tbody>\n",
              "</table>\n",
              "</div>\n",
              "      <button class=\"colab-df-convert\" onclick=\"convertToInteractive('df-4a52fa2c-ed98-43f4-8219-427c93d20ad4')\"\n",
              "              title=\"Convert this dataframe to an interactive table.\"\n",
              "              style=\"display:none;\">\n",
              "        \n",
              "  <svg xmlns=\"http://www.w3.org/2000/svg\" height=\"24px\"viewBox=\"0 0 24 24\"\n",
              "       width=\"24px\">\n",
              "    <path d=\"M0 0h24v24H0V0z\" fill=\"none\"/>\n",
              "    <path d=\"M18.56 5.44l.94 2.06.94-2.06 2.06-.94-2.06-.94-.94-2.06-.94 2.06-2.06.94zm-11 1L8.5 8.5l.94-2.06 2.06-.94-2.06-.94L8.5 2.5l-.94 2.06-2.06.94zm10 10l.94 2.06.94-2.06 2.06-.94-2.06-.94-.94-2.06-.94 2.06-2.06.94z\"/><path d=\"M17.41 7.96l-1.37-1.37c-.4-.4-.92-.59-1.43-.59-.52 0-1.04.2-1.43.59L10.3 9.45l-7.72 7.72c-.78.78-.78 2.05 0 2.83L4 21.41c.39.39.9.59 1.41.59.51 0 1.02-.2 1.41-.59l7.78-7.78 2.81-2.81c.8-.78.8-2.07 0-2.86zM5.41 20L4 18.59l7.72-7.72 1.47 1.35L5.41 20z\"/>\n",
              "  </svg>\n",
              "      </button>\n",
              "      \n",
              "  <style>\n",
              "    .colab-df-container {\n",
              "      display:flex;\n",
              "      flex-wrap:wrap;\n",
              "      gap: 12px;\n",
              "    }\n",
              "\n",
              "    .colab-df-convert {\n",
              "      background-color: #E8F0FE;\n",
              "      border: none;\n",
              "      border-radius: 50%;\n",
              "      cursor: pointer;\n",
              "      display: none;\n",
              "      fill: #1967D2;\n",
              "      height: 32px;\n",
              "      padding: 0 0 0 0;\n",
              "      width: 32px;\n",
              "    }\n",
              "\n",
              "    .colab-df-convert:hover {\n",
              "      background-color: #E2EBFA;\n",
              "      box-shadow: 0px 1px 2px rgba(60, 64, 67, 0.3), 0px 1px 3px 1px rgba(60, 64, 67, 0.15);\n",
              "      fill: #174EA6;\n",
              "    }\n",
              "\n",
              "    [theme=dark] .colab-df-convert {\n",
              "      background-color: #3B4455;\n",
              "      fill: #D2E3FC;\n",
              "    }\n",
              "\n",
              "    [theme=dark] .colab-df-convert:hover {\n",
              "      background-color: #434B5C;\n",
              "      box-shadow: 0px 1px 3px 1px rgba(0, 0, 0, 0.15);\n",
              "      filter: drop-shadow(0px 1px 2px rgba(0, 0, 0, 0.3));\n",
              "      fill: #FFFFFF;\n",
              "    }\n",
              "  </style>\n",
              "\n",
              "      <script>\n",
              "        const buttonEl =\n",
              "          document.querySelector('#df-4a52fa2c-ed98-43f4-8219-427c93d20ad4 button.colab-df-convert');\n",
              "        buttonEl.style.display =\n",
              "          google.colab.kernel.accessAllowed ? 'block' : 'none';\n",
              "\n",
              "        async function convertToInteractive(key) {\n",
              "          const element = document.querySelector('#df-4a52fa2c-ed98-43f4-8219-427c93d20ad4');\n",
              "          const dataTable =\n",
              "            await google.colab.kernel.invokeFunction('convertToInteractive',\n",
              "                                                     [key], {});\n",
              "          if (!dataTable) return;\n",
              "\n",
              "          const docLinkHtml = 'Like what you see? Visit the ' +\n",
              "            '<a target=\"_blank\" href=https://colab.research.google.com/notebooks/data_table.ipynb>data table notebook</a>'\n",
              "            + ' to learn more about interactive tables.';\n",
              "          element.innerHTML = '';\n",
              "          dataTable['output_type'] = 'display_data';\n",
              "          await google.colab.output.renderOutput(dataTable, element);\n",
              "          const docLink = document.createElement('div');\n",
              "          docLink.innerHTML = docLinkHtml;\n",
              "          element.appendChild(docLink);\n",
              "        }\n",
              "      </script>\n",
              "    </div>\n",
              "  </div>\n",
              "  "
            ]
          },
          "metadata": {},
          "execution_count": 125
        }
      ]
    },
    {
      "cell_type": "code",
      "source": [
        "# Removendo valores nulos\n",
        "\n",
        "print(df.isnull().sum())\n",
        "df = df.dropna().reset_index(drop=True)\n",
        "df.isnull().sum() "
      ],
      "metadata": {
        "colab": {
          "base_uri": "https://localhost:8080/"
        },
        "id": "8CsSdPx40Ve6",
        "outputId": "aed11025-a4b6-4e97-a6d8-4d39d9dd5082"
      },
      "execution_count": 126,
      "outputs": [
        {
          "output_type": "stream",
          "name": "stdout",
          "text": [
            "ID    0\n",
            "EP    0\n",
            "QR    0\n",
            "LE    0\n",
            "R     0\n",
            "dtype: int64\n"
          ]
        },
        {
          "output_type": "execute_result",
          "data": {
            "text/plain": [
              "ID    0\n",
              "EP    0\n",
              "QR    0\n",
              "LE    0\n",
              "R     0\n",
              "dtype: int64"
            ]
          },
          "metadata": {},
          "execution_count": 126
        }
      ]
    },
    {
      "cell_type": "code",
      "source": [
        "# Hot encode de todas as classes \n",
        "\n",
        "for column in df.columns:\n",
        "  dumies = pd.get_dummies(df[column],prefix=column)\n",
        "  df = pd.concat([df,dumies],axis=1)\n",
        "  df = df.drop(column,axis=1)\n",
        "\n",
        "df.head()"
      ],
      "metadata": {
        "colab": {
          "base_uri": "https://localhost:8080/",
          "height": 206
        },
        "id": "fbYuIdjs0Wko",
        "outputId": "3e5be452-3673-466e-808c-a6f8b52c4484"
      },
      "execution_count": 127,
      "outputs": [
        {
          "output_type": "execute_result",
          "data": {
            "text/plain": [
              "   ID_R1  ID_R2  ID_R3  ID_R4  ID_R5  ID_R6  ID_R7  ID_R8  EP_Muita  EP_Pouca  \\\n",
              "0      1      0      0      0      0      0      0      0         1         0   \n",
              "1      0      1      0      0      0      0      0      0         1         0   \n",
              "2      0      0      1      0      0      0      0      0         0         1   \n",
              "3      0      0      0      1      0      0      0      0         0         1   \n",
              "4      0      0      0      0      1      0      0      0         0         1   \n",
              "\n",
              "   QR_Boa  QR_Ótima  LE_Boa  LE_Ruim  R_Lucro  R_Prejuízo  \n",
              "0       1         0       0        1        1           0  \n",
              "1       1         0       1        0        1           0  \n",
              "2       1         0       1        0        1           0  \n",
              "3       0         1       0        1        0           1  \n",
              "4       0         1       1        0        0           1  "
            ],
            "text/html": [
              "\n",
              "  <div id=\"df-ef352ba7-68e8-4da9-85d7-64f552aefb95\">\n",
              "    <div class=\"colab-df-container\">\n",
              "      <div>\n",
              "<style scoped>\n",
              "    .dataframe tbody tr th:only-of-type {\n",
              "        vertical-align: middle;\n",
              "    }\n",
              "\n",
              "    .dataframe tbody tr th {\n",
              "        vertical-align: top;\n",
              "    }\n",
              "\n",
              "    .dataframe thead th {\n",
              "        text-align: right;\n",
              "    }\n",
              "</style>\n",
              "<table border=\"1\" class=\"dataframe\">\n",
              "  <thead>\n",
              "    <tr style=\"text-align: right;\">\n",
              "      <th></th>\n",
              "      <th>ID_R1</th>\n",
              "      <th>ID_R2</th>\n",
              "      <th>ID_R3</th>\n",
              "      <th>ID_R4</th>\n",
              "      <th>ID_R5</th>\n",
              "      <th>ID_R6</th>\n",
              "      <th>ID_R7</th>\n",
              "      <th>ID_R8</th>\n",
              "      <th>EP_Muita</th>\n",
              "      <th>EP_Pouca</th>\n",
              "      <th>QR_Boa</th>\n",
              "      <th>QR_Ótima</th>\n",
              "      <th>LE_Boa</th>\n",
              "      <th>LE_Ruim</th>\n",
              "      <th>R_Lucro</th>\n",
              "      <th>R_Prejuízo</th>\n",
              "    </tr>\n",
              "  </thead>\n",
              "  <tbody>\n",
              "    <tr>\n",
              "      <th>0</th>\n",
              "      <td>1</td>\n",
              "      <td>0</td>\n",
              "      <td>0</td>\n",
              "      <td>0</td>\n",
              "      <td>0</td>\n",
              "      <td>0</td>\n",
              "      <td>0</td>\n",
              "      <td>0</td>\n",
              "      <td>1</td>\n",
              "      <td>0</td>\n",
              "      <td>1</td>\n",
              "      <td>0</td>\n",
              "      <td>0</td>\n",
              "      <td>1</td>\n",
              "      <td>1</td>\n",
              "      <td>0</td>\n",
              "    </tr>\n",
              "    <tr>\n",
              "      <th>1</th>\n",
              "      <td>0</td>\n",
              "      <td>1</td>\n",
              "      <td>0</td>\n",
              "      <td>0</td>\n",
              "      <td>0</td>\n",
              "      <td>0</td>\n",
              "      <td>0</td>\n",
              "      <td>0</td>\n",
              "      <td>1</td>\n",
              "      <td>0</td>\n",
              "      <td>1</td>\n",
              "      <td>0</td>\n",
              "      <td>1</td>\n",
              "      <td>0</td>\n",
              "      <td>1</td>\n",
              "      <td>0</td>\n",
              "    </tr>\n",
              "    <tr>\n",
              "      <th>2</th>\n",
              "      <td>0</td>\n",
              "      <td>0</td>\n",
              "      <td>1</td>\n",
              "      <td>0</td>\n",
              "      <td>0</td>\n",
              "      <td>0</td>\n",
              "      <td>0</td>\n",
              "      <td>0</td>\n",
              "      <td>0</td>\n",
              "      <td>1</td>\n",
              "      <td>1</td>\n",
              "      <td>0</td>\n",
              "      <td>1</td>\n",
              "      <td>0</td>\n",
              "      <td>1</td>\n",
              "      <td>0</td>\n",
              "    </tr>\n",
              "    <tr>\n",
              "      <th>3</th>\n",
              "      <td>0</td>\n",
              "      <td>0</td>\n",
              "      <td>0</td>\n",
              "      <td>1</td>\n",
              "      <td>0</td>\n",
              "      <td>0</td>\n",
              "      <td>0</td>\n",
              "      <td>0</td>\n",
              "      <td>0</td>\n",
              "      <td>1</td>\n",
              "      <td>0</td>\n",
              "      <td>1</td>\n",
              "      <td>0</td>\n",
              "      <td>1</td>\n",
              "      <td>0</td>\n",
              "      <td>1</td>\n",
              "    </tr>\n",
              "    <tr>\n",
              "      <th>4</th>\n",
              "      <td>0</td>\n",
              "      <td>0</td>\n",
              "      <td>0</td>\n",
              "      <td>0</td>\n",
              "      <td>1</td>\n",
              "      <td>0</td>\n",
              "      <td>0</td>\n",
              "      <td>0</td>\n",
              "      <td>0</td>\n",
              "      <td>1</td>\n",
              "      <td>0</td>\n",
              "      <td>1</td>\n",
              "      <td>1</td>\n",
              "      <td>0</td>\n",
              "      <td>0</td>\n",
              "      <td>1</td>\n",
              "    </tr>\n",
              "  </tbody>\n",
              "</table>\n",
              "</div>\n",
              "      <button class=\"colab-df-convert\" onclick=\"convertToInteractive('df-ef352ba7-68e8-4da9-85d7-64f552aefb95')\"\n",
              "              title=\"Convert this dataframe to an interactive table.\"\n",
              "              style=\"display:none;\">\n",
              "        \n",
              "  <svg xmlns=\"http://www.w3.org/2000/svg\" height=\"24px\"viewBox=\"0 0 24 24\"\n",
              "       width=\"24px\">\n",
              "    <path d=\"M0 0h24v24H0V0z\" fill=\"none\"/>\n",
              "    <path d=\"M18.56 5.44l.94 2.06.94-2.06 2.06-.94-2.06-.94-.94-2.06-.94 2.06-2.06.94zm-11 1L8.5 8.5l.94-2.06 2.06-.94-2.06-.94L8.5 2.5l-.94 2.06-2.06.94zm10 10l.94 2.06.94-2.06 2.06-.94-2.06-.94-.94-2.06-.94 2.06-2.06.94z\"/><path d=\"M17.41 7.96l-1.37-1.37c-.4-.4-.92-.59-1.43-.59-.52 0-1.04.2-1.43.59L10.3 9.45l-7.72 7.72c-.78.78-.78 2.05 0 2.83L4 21.41c.39.39.9.59 1.41.59.51 0 1.02-.2 1.41-.59l7.78-7.78 2.81-2.81c.8-.78.8-2.07 0-2.86zM5.41 20L4 18.59l7.72-7.72 1.47 1.35L5.41 20z\"/>\n",
              "  </svg>\n",
              "      </button>\n",
              "      \n",
              "  <style>\n",
              "    .colab-df-container {\n",
              "      display:flex;\n",
              "      flex-wrap:wrap;\n",
              "      gap: 12px;\n",
              "    }\n",
              "\n",
              "    .colab-df-convert {\n",
              "      background-color: #E8F0FE;\n",
              "      border: none;\n",
              "      border-radius: 50%;\n",
              "      cursor: pointer;\n",
              "      display: none;\n",
              "      fill: #1967D2;\n",
              "      height: 32px;\n",
              "      padding: 0 0 0 0;\n",
              "      width: 32px;\n",
              "    }\n",
              "\n",
              "    .colab-df-convert:hover {\n",
              "      background-color: #E2EBFA;\n",
              "      box-shadow: 0px 1px 2px rgba(60, 64, 67, 0.3), 0px 1px 3px 1px rgba(60, 64, 67, 0.15);\n",
              "      fill: #174EA6;\n",
              "    }\n",
              "\n",
              "    [theme=dark] .colab-df-convert {\n",
              "      background-color: #3B4455;\n",
              "      fill: #D2E3FC;\n",
              "    }\n",
              "\n",
              "    [theme=dark] .colab-df-convert:hover {\n",
              "      background-color: #434B5C;\n",
              "      box-shadow: 0px 1px 3px 1px rgba(0, 0, 0, 0.15);\n",
              "      filter: drop-shadow(0px 1px 2px rgba(0, 0, 0, 0.3));\n",
              "      fill: #FFFFFF;\n",
              "    }\n",
              "  </style>\n",
              "\n",
              "      <script>\n",
              "        const buttonEl =\n",
              "          document.querySelector('#df-ef352ba7-68e8-4da9-85d7-64f552aefb95 button.colab-df-convert');\n",
              "        buttonEl.style.display =\n",
              "          google.colab.kernel.accessAllowed ? 'block' : 'none';\n",
              "\n",
              "        async function convertToInteractive(key) {\n",
              "          const element = document.querySelector('#df-ef352ba7-68e8-4da9-85d7-64f552aefb95');\n",
              "          const dataTable =\n",
              "            await google.colab.kernel.invokeFunction('convertToInteractive',\n",
              "                                                     [key], {});\n",
              "          if (!dataTable) return;\n",
              "\n",
              "          const docLinkHtml = 'Like what you see? Visit the ' +\n",
              "            '<a target=\"_blank\" href=https://colab.research.google.com/notebooks/data_table.ipynb>data table notebook</a>'\n",
              "            + ' to learn more about interactive tables.';\n",
              "          element.innerHTML = '';\n",
              "          dataTable['output_type'] = 'display_data';\n",
              "          await google.colab.output.renderOutput(dataTable, element);\n",
              "          const docLink = document.createElement('div');\n",
              "          docLink.innerHTML = docLinkHtml;\n",
              "          element.appendChild(docLink);\n",
              "        }\n",
              "      </script>\n",
              "    </div>\n",
              "  </div>\n",
              "  "
            ]
          },
          "metadata": {},
          "execution_count": 127
        }
      ]
    },
    {
      "cell_type": "code",
      "source": [
        "# Definindo os valores preditores e preditos\n",
        "# Sendo os preditores  ['EP_Muita', 'EP_Pouca', 'QR_Boa', 'QR_Ótima ', 'LE_Boa', 'LE_Ruim']\n",
        "# Sendo os preditos ['R_Lucro', 'R_Prejuízo']\n",
        "\n",
        "y = df[['R_Lucro', 'R_Prejuízo']]\n",
        "df = df.drop(['R_Lucro', 'R_Prejuízo'],axis=1)\n",
        "X = df"
      ],
      "metadata": {
        "id": "aoM11GWG0frt"
      },
      "execution_count": 128,
      "outputs": []
    },
    {
      "cell_type": "code",
      "source": [
        "from sklearn.model_selection import train_test_split\n",
        "\n",
        "# Separando os dados para treino e teste\n",
        "\n",
        "X_train, X_test, y_train, y_test = train_test_split(X, y, test_size=0.3, random_state=1) "
      ],
      "metadata": {
        "id": "uA4SM5Gx0054"
      },
      "execution_count": 129,
      "outputs": []
    },
    {
      "cell_type": "code",
      "source": [
        "from sklearn import tree\n",
        "\n",
        "# Classificando com o modelo árvore de decisão \n",
        "\n",
        "clf = tree.DecisionTreeClassifier()\n",
        "clf = clf.fit(X_train, y_train)"
      ],
      "metadata": {
        "id": "Khv8AOp9033P"
      },
      "execution_count": 130,
      "outputs": []
    },
    {
      "cell_type": "code",
      "source": [
        "# Plotando o resultado da classificação\n",
        "\n",
        "tree.plot_tree(clf)"
      ],
      "metadata": {
        "colab": {
          "base_uri": "https://localhost:8080/",
          "height": 337
        },
        "id": "xjBlnfDe06pZ",
        "outputId": "0adaa40b-7e8f-4480-e1c3-58ff2238f0b0"
      },
      "execution_count": 131,
      "outputs": [
        {
          "output_type": "execute_result",
          "data": {
            "text/plain": [
              "[Text(0.4, 0.8333333333333334, 'x[8] <= 0.5\\ngini = 0.48\\nsamples = 5\\nvalue = [[3, 2]\\n[2, 3]]'),\n",
              " Text(0.2, 0.5, 'gini = 0.0\\nsamples = 2\\nvalue = [[2, 0]\\n[0, 2]]'),\n",
              " Text(0.6, 0.5, 'x[6] <= 0.5\\ngini = 0.444\\nsamples = 3\\nvalue = [[1, 2]\\n[2, 1]]'),\n",
              " Text(0.4, 0.16666666666666666, 'gini = 0.0\\nsamples = 2\\nvalue = [[0, 2]\\n[2, 0]]'),\n",
              " Text(0.8, 0.16666666666666666, 'gini = 0.0\\nsamples = 1\\nvalue = [[1, 0]\\n[0, 1]]')]"
            ]
          },
          "metadata": {},
          "execution_count": 131
        },
        {
          "output_type": "display_data",
          "data": {
            "text/plain": [
              "<Figure size 432x288 with 1 Axes>"
            ],
            "image/png": "[encoded data removed]"
          },
          "metadata": {
            "needs_background": "light"
          }
        }
      ]
    },
    {
      "cell_type": "code",
      "source": [
        "import graphviz \n",
        "\n",
        "dot_data = tree.export_graphviz(clf, out_file=None) \n",
        "graph = graphviz.Source(dot_data) \n",
        "graph.render(\"restaurante_grafico\") \n",
        "\n",
        "dot_data = tree.export_graphviz(clf, out_file=None, \n",
        "                     feature_names=X.columns,  \n",
        "                     class_names=y.columns,  \n",
        "                     filled=True, rounded=True,  \n",
        "                     special_characters=True)  \n",
        "graph = graphviz.Source(dot_data)  \n",
        "graph"
      ],
      "metadata": {
        "colab": {
          "base_uri": "https://localhost:8080/",
          "height": 439
        },
        "id": "_Kh7Vmx91Ybv",
        "outputId": "7f400957-a733-43a8-c9f4-16323322889e"
      },
      "execution_count": 132,
      "outputs": [
        {
          "output_type": "execute_result",
          "data": {
            "image/svg+xml": "<?xml version=\"1.0\" encoding=\"UTF-8\" standalone=\"no\"?>\n<!DOCTYPE svg PUBLIC \"-//W3C//DTD SVG 1.1//EN\"\n \"http://www.w3.org/Graphics/SVG/1.1/DTD/svg11.dtd\">\n<!-- Generated by graphviz version 2.43.0 (0)\n -->\n<!-- Title: Tree Pages: 1 -->\n<svg width=\"280pt\" height=\"314pt\"\n viewBox=\"0.00 0.00 280.00 314.00\" xmlns=\"http://www.w3.org/2000/svg\" xmlns:xlink=\"http://www.w3.org/1999/xlink\">\n<g id=\"graph0\" class=\"graph\" transform=\"scale(1 1) rotate(0) translate(4 310)\">\n<title>Tree</title>\n<polygon fill=\"white\" stroke=\"transparent\" points=\"-4,4 -4,-310 276,-310 276,4 -4,4\"/>\n<!-- 0 -->\n<g id=\"node1\" class=\"node\">\n<title>0</title>\n<path fill=\"#ffffff\" stroke=\"black\" d=\"M150,-306C150,-306 64,-306 64,-306 58,-306 52,-300 52,-294 52,-294 52,-235 52,-235 52,-229 58,-223 64,-223 64,-223 150,-223 150,-223 156,-223 162,-229 162,-235 162,-235 162,-294 162,-294 162,-300 156,-306 150,-306\"/>\n<text text-anchor=\"start\" x=\"60\" y=\"-290.8\" font-family=\"Helvetica,sans-Serif\" font-size=\"14.00\">EP_Muita ≤ 0.5</text>\n<text text-anchor=\"start\" x=\"75\" y=\"-275.8\" font-family=\"Helvetica,sans-Serif\" font-size=\"14.00\">gini = 0.48</text>\n<text text-anchor=\"start\" x=\"69.5\" y=\"-260.8\" font-family=\"Helvetica,sans-Serif\" font-size=\"14.00\">samples = 5</text>\n<text text-anchor=\"start\" x=\"66\" y=\"-245.8\" font-family=\"Helvetica,sans-Serif\" font-size=\"14.00\">value = [[3, 2]</text>\n<text text-anchor=\"start\" x=\"90\" y=\"-230.8\" font-family=\"Helvetica,sans-Serif\" font-size=\"14.00\">[2, 3]]</text>\n</g>\n<!-- 1 -->\n<g id=\"node2\" class=\"node\">\n<title>1</title>\n<path fill=\"#e58139\" stroke=\"black\" d=\"M86,-179.5C86,-179.5 12,-179.5 12,-179.5 6,-179.5 0,-173.5 0,-167.5 0,-167.5 0,-123.5 0,-123.5 0,-117.5 6,-111.5 12,-111.5 12,-111.5 86,-111.5 86,-111.5 92,-111.5 98,-117.5 98,-123.5 98,-123.5 98,-167.5 98,-167.5 98,-173.5 92,-179.5 86,-179.5\"/>\n<text text-anchor=\"start\" x=\"21\" y=\"-164.3\" font-family=\"Helvetica,sans-Serif\" font-size=\"14.00\">gini = 0.0</text>\n<text text-anchor=\"start\" x=\"11.5\" y=\"-149.3\" font-family=\"Helvetica,sans-Serif\" font-size=\"14.00\">samples = 2</text>\n<text text-anchor=\"start\" x=\"8\" y=\"-134.3\" font-family=\"Helvetica,sans-Serif\" font-size=\"14.00\">value = [[2, 0]</text>\n<text text-anchor=\"start\" x=\"32\" y=\"-119.3\" font-family=\"Helvetica,sans-Serif\" font-size=\"14.00\">[0, 2]]</text>\n</g>\n<!-- 0&#45;&gt;1 -->\n<g id=\"edge1\" class=\"edge\">\n<title>0&#45;&gt;1</title>\n<path fill=\"none\" stroke=\"black\" d=\"M86.88,-222.91C81.41,-211.87 75.47,-199.9 69.96,-188.77\"/>\n<polygon fill=\"black\" stroke=\"black\" points=\"73.02,-187.07 65.44,-179.67 66.75,-190.18 73.02,-187.07\"/>\n<text text-anchor=\"middle\" x=\"57.45\" y=\"-199.66\" font-family=\"Helvetica,sans-Serif\" font-size=\"14.00\">True</text>\n</g>\n<!-- 2 -->\n<g id=\"node3\" class=\"node\">\n<title>2</title>\n<path fill=\"#fdf6f0\" stroke=\"black\" d=\"M202,-187C202,-187 128,-187 128,-187 122,-187 116,-181 116,-175 116,-175 116,-116 116,-116 116,-110 122,-104 128,-104 128,-104 202,-104 202,-104 208,-104 214,-110 214,-116 214,-116 214,-175 214,-175 214,-181 208,-187 202,-187\"/>\n<text text-anchor=\"start\" x=\"128.5\" y=\"-171.8\" font-family=\"Helvetica,sans-Serif\" font-size=\"14.00\">ID_R7 ≤ 0.5</text>\n<text text-anchor=\"start\" x=\"129.5\" y=\"-156.8\" font-family=\"Helvetica,sans-Serif\" font-size=\"14.00\">gini = 0.444</text>\n<text text-anchor=\"start\" x=\"127.5\" y=\"-141.8\" font-family=\"Helvetica,sans-Serif\" font-size=\"14.00\">samples = 3</text>\n<text text-anchor=\"start\" x=\"124\" y=\"-126.8\" font-family=\"Helvetica,sans-Serif\" font-size=\"14.00\">value = [[1, 2]</text>\n<text text-anchor=\"start\" x=\"148\" y=\"-111.8\" font-family=\"Helvetica,sans-Serif\" font-size=\"14.00\">[2, 1]]</text>\n</g>\n<!-- 0&#45;&gt;2 -->\n<g id=\"edge2\" class=\"edge\">\n<title>0&#45;&gt;2</title>\n<path fill=\"none\" stroke=\"black\" d=\"M127.12,-222.91C131.4,-214.29 135.96,-205.09 140.37,-196.17\"/>\n<polygon fill=\"black\" stroke=\"black\" points=\"143.61,-197.53 144.91,-187.02 137.34,-194.43 143.61,-197.53\"/>\n<text text-anchor=\"middle\" x=\"152.9\" y=\"-207.01\" font-family=\"Helvetica,sans-Serif\" font-size=\"14.00\">False</text>\n</g>\n<!-- 3 -->\n<g id=\"node4\" class=\"node\">\n<title>3</title>\n<path fill=\"#e58139\" stroke=\"black\" d=\"M144,-68C144,-68 70,-68 70,-68 64,-68 58,-62 58,-56 58,-56 58,-12 58,-12 58,-6 64,0 70,0 70,0 144,0 144,0 150,0 156,-6 156,-12 156,-12 156,-56 156,-56 156,-62 150,-68 144,-68\"/>\n<text text-anchor=\"start\" x=\"79\" y=\"-52.8\" font-family=\"Helvetica,sans-Serif\" font-size=\"14.00\">gini = 0.0</text>\n<text text-anchor=\"start\" x=\"69.5\" y=\"-37.8\" font-family=\"Helvetica,sans-Serif\" font-size=\"14.00\">samples = 2</text>\n<text text-anchor=\"start\" x=\"66\" y=\"-22.8\" font-family=\"Helvetica,sans-Serif\" font-size=\"14.00\">value = [[0, 2]</text>\n<text text-anchor=\"start\" x=\"90\" y=\"-7.8\" font-family=\"Helvetica,sans-Serif\" font-size=\"14.00\">[2, 0]]</text>\n</g>\n<!-- 2&#45;&gt;3 -->\n<g id=\"edge3\" class=\"edge\">\n<title>2&#45;&gt;3</title>\n<path fill=\"none\" stroke=\"black\" d=\"M143.4,-103.73C138.81,-95.06 133.96,-85.9 129.34,-77.18\"/>\n<polygon fill=\"black\" stroke=\"black\" points=\"132.41,-75.5 124.64,-68.3 126.23,-78.77 132.41,-75.5\"/>\n</g>\n<!-- 4 -->\n<g id=\"node5\" class=\"node\">\n<title>4</title>\n<path fill=\"#e58139\" stroke=\"black\" d=\"M260,-68C260,-68 186,-68 186,-68 180,-68 174,-62 174,-56 174,-56 174,-12 174,-12 174,-6 180,0 186,0 186,0 260,0 260,0 266,0 272,-6 272,-12 272,-12 272,-56 272,-56 272,-62 266,-68 260,-68\"/>\n<text text-anchor=\"start\" x=\"195\" y=\"-52.8\" font-family=\"Helvetica,sans-Serif\" font-size=\"14.00\">gini = 0.0</text>\n<text text-anchor=\"start\" x=\"185.5\" y=\"-37.8\" font-family=\"Helvetica,sans-Serif\" font-size=\"14.00\">samples = 1</text>\n<text text-anchor=\"start\" x=\"182\" y=\"-22.8\" font-family=\"Helvetica,sans-Serif\" font-size=\"14.00\">value = [[1, 0]</text>\n<text text-anchor=\"start\" x=\"206\" y=\"-7.8\" font-family=\"Helvetica,sans-Serif\" font-size=\"14.00\">[0, 1]]</text>\n</g>\n<!-- 2&#45;&gt;4 -->\n<g id=\"edge4\" class=\"edge\">\n<title>2&#45;&gt;4</title>\n<path fill=\"none\" stroke=\"black\" d=\"M186.6,-103.73C191.19,-95.06 196.04,-85.9 200.66,-77.18\"/>\n<polygon fill=\"black\" stroke=\"black\" points=\"203.77,-78.77 205.36,-68.3 197.59,-75.5 203.77,-78.77\"/>\n</g>\n</g>\n</svg>\n",
            "text/plain": [
              "<graphviz.sources.Source at 0x7fc8796735e0>"
            ]
          },
          "metadata": {},
          "execution_count": 132
        }
      ]
    },
    {
      "cell_type": "code",
      "source": [
        "import matplotlib.pyplot as plt\n",
        "\n",
        "# Plotando uma melhor imagem\n",
        "\n",
        "plt.figure(figsize=(12,12))\n",
        "tree.plot_tree(clf, fontsize=10)\n",
        "plt.show()"
      ],
      "metadata": {
        "colab": {
          "base_uri": "https://localhost:8080/",
          "height": 683
        },
        "id": "ZmGNmyvw09Ty",
        "outputId": "30f950be-f65e-46a0-f54a-c7c58b43352a"
      },
      "execution_count": 133,
      "outputs": [
        {
          "output_type": "display_data",
          "data": {
            "text/plain": [
              "<Figure size 864x864 with 1 Axes>"
            ],
            "image/png": "[encoded data removed]"
          },
          "metadata": {
            "needs_background": "light"
          }
        }
      ]
    },
    {
      "cell_type": "code",
      "source": [
        "# Fazendo uma predição \n",
        "\n",
        "y_pred = clf.predict(X_test)"
      ],
      "metadata": {
        "id": "6shXI-Hq1A3p"
      },
      "execution_count": 134,
      "outputs": []
    },
    {
      "cell_type": "code",
      "source": [
        "from sklearn.neural_network import MLPClassifier\n",
        "from sklearn.metrics import classification_report\n",
        "from sklearn.metrics import accuracy_score\n",
        "\n",
        "# Qualidade do modelo\n",
        "\n",
        "# Calcula o score\n",
        "print(\"Accuracy on training set: {:.2f}\".format(clf.score(X_train, y_train)))\n",
        "print(\"Accuracy on test set: {:.2f}\".format(clf.score(X_test, y_test)))\n",
        "\n",
        "# Matriz de classificação\n",
        "print('\\nClassification Report:\\n')\n",
        "print(classification_report(y_test, y_pred))\n",
        "\n",
        "# Score de acuracidade\n",
        "print('\\nAccuracy_score Report:\\n')\n",
        "print(accuracy_score(y_test, y_pred))"
      ],
      "metadata": {
        "colab": {
          "base_uri": "https://localhost:8080/"
        },
        "id": "jYGFgawX3Cfy",
        "outputId": "a534fd1b-1c9d-4887-bd2b-6307194fc211"
      },
      "execution_count": 135,
      "outputs": [
        {
          "output_type": "stream",
          "name": "stdout",
          "text": [
            "Accuracy on training set: 1.00\n",
            "Accuracy on test set: 0.67\n",
            "\n",
            "Classification Report:\n",
            "\n",
            "              precision    recall  f1-score   support\n",
            "\n",
            "           0       1.00      0.50      0.67         2\n",
            "           1       0.50      1.00      0.67         1\n",
            "\n",
            "   micro avg       0.67      0.67      0.67         3\n",
            "   macro avg       0.75      0.75      0.67         3\n",
            "weighted avg       0.83      0.67      0.67         3\n",
            " samples avg       0.67      0.67      0.67         3\n",
            "\n",
            "\n",
            "Accuracy_score Report:\n",
            "\n",
            "0.6666666666666666\n"
          ]
        }
      ]
    },
    {
      "cell_type": "markdown",
      "source": [
        "# **Implementação da árvore com a tabela Carros**\n",
        "\n",
        "\n",
        "\n"
      ],
      "metadata": {
        "id": "nCcksC-nz15s"
      }
    },
    {
      "cell_type": "code",
      "execution_count": 137,
      "metadata": {
        "colab": {
          "base_uri": "https://localhost:8080/",
          "height": 206
        },
        "id": "lnFfw2PmkEeL",
        "outputId": "d2adb0ca-05da-444b-f5aa-f69283c2727b"
      },
      "outputs": [
        {
          "output_type": "execute_result",
          "data": {
            "text/plain": [
              "  Gênero Tipo de Carro Tamanho da Camisa Classe Social\n",
              "0      M      Familiar                 P             C\n",
              "1      M     Esportivo                 M             C\n",
              "2      M     Esportivo                 M             C\n",
              "3      M     Esportivo                 L             C\n",
              "4      M     Esportivo                 X             C"
            ],
            "text/html": [
              "\n",
              "  <div id=\"df-7b3f1b50-d919-4e67-a459-6605a6b5bb23\">\n",
              "    <div class=\"colab-df-container\">\n",
              "      <div>\n",
              "<style scoped>\n",
              "    .dataframe tbody tr th:only-of-type {\n",
              "        vertical-align: middle;\n",
              "    }\n",
              "\n",
              "    .dataframe tbody tr th {\n",
              "        vertical-align: top;\n",
              "    }\n",
              "\n",
              "    .dataframe thead th {\n",
              "        text-align: right;\n",
              "    }\n",
              "</style>\n",
              "<table border=\"1\" class=\"dataframe\">\n",
              "  <thead>\n",
              "    <tr style=\"text-align: right;\">\n",
              "      <th></th>\n",
              "      <th>Gênero</th>\n",
              "      <th>Tipo de Carro</th>\n",
              "      <th>Tamanho da Camisa</th>\n",
              "      <th>Classe Social</th>\n",
              "    </tr>\n",
              "  </thead>\n",
              "  <tbody>\n",
              "    <tr>\n",
              "      <th>0</th>\n",
              "      <td>M</td>\n",
              "      <td>Familiar</td>\n",
              "      <td>P</td>\n",
              "      <td>C</td>\n",
              "    </tr>\n",
              "    <tr>\n",
              "      <th>1</th>\n",
              "      <td>M</td>\n",
              "      <td>Esportivo</td>\n",
              "      <td>M</td>\n",
              "      <td>C</td>\n",
              "    </tr>\n",
              "    <tr>\n",
              "      <th>2</th>\n",
              "      <td>M</td>\n",
              "      <td>Esportivo</td>\n",
              "      <td>M</td>\n",
              "      <td>C</td>\n",
              "    </tr>\n",
              "    <tr>\n",
              "      <th>3</th>\n",
              "      <td>M</td>\n",
              "      <td>Esportivo</td>\n",
              "      <td>L</td>\n",
              "      <td>C</td>\n",
              "    </tr>\n",
              "    <tr>\n",
              "      <th>4</th>\n",
              "      <td>M</td>\n",
              "      <td>Esportivo</td>\n",
              "      <td>X</td>\n",
              "      <td>C</td>\n",
              "    </tr>\n",
              "  </tbody>\n",
              "</table>\n",
              "</div>\n",
              "      <button class=\"colab-df-convert\" onclick=\"convertToInteractive('df-7b3f1b50-d919-4e67-a459-6605a6b5bb23')\"\n",
              "              title=\"Convert this dataframe to an interactive table.\"\n",
              "              style=\"display:none;\">\n",
              "        \n",
              "  <svg xmlns=\"http://www.w3.org/2000/svg\" height=\"24px\"viewBox=\"0 0 24 24\"\n",
              "       width=\"24px\">\n",
              "    <path d=\"M0 0h24v24H0V0z\" fill=\"none\"/>\n",
              "    <path d=\"M18.56 5.44l.94 2.06.94-2.06 2.06-.94-2.06-.94-.94-2.06-.94 2.06-2.06.94zm-11 1L8.5 8.5l.94-2.06 2.06-.94-2.06-.94L8.5 2.5l-.94 2.06-2.06.94zm10 10l.94 2.06.94-2.06 2.06-.94-2.06-.94-.94-2.06-.94 2.06-2.06.94z\"/><path d=\"M17.41 7.96l-1.37-1.37c-.4-.4-.92-.59-1.43-.59-.52 0-1.04.2-1.43.59L10.3 9.45l-7.72 7.72c-.78.78-.78 2.05 0 2.83L4 21.41c.39.39.9.59 1.41.59.51 0 1.02-.2 1.41-.59l7.78-7.78 2.81-2.81c.8-.78.8-2.07 0-2.86zM5.41 20L4 18.59l7.72-7.72 1.47 1.35L5.41 20z\"/>\n",
              "  </svg>\n",
              "      </button>\n",
              "      \n",
              "  <style>\n",
              "    .colab-df-container {\n",
              "      display:flex;\n",
              "      flex-wrap:wrap;\n",
              "      gap: 12px;\n",
              "    }\n",
              "\n",
              "    .colab-df-convert {\n",
              "      background-color: #E8F0FE;\n",
              "      border: none;\n",
              "      border-radius: 50%;\n",
              "      cursor: pointer;\n",
              "      display: none;\n",
              "      fill: #1967D2;\n",
              "      height: 32px;\n",
              "      padding: 0 0 0 0;\n",
              "      width: 32px;\n",
              "    }\n",
              "\n",
              "    .colab-df-convert:hover {\n",
              "      background-color: #E2EBFA;\n",
              "      box-shadow: 0px 1px 2px rgba(60, 64, 67, 0.3), 0px 1px 3px 1px rgba(60, 64, 67, 0.15);\n",
              "      fill: #174EA6;\n",
              "    }\n",
              "\n",
              "    [theme=dark] .colab-df-convert {\n",
              "      background-color: #3B4455;\n",
              "      fill: #D2E3FC;\n",
              "    }\n",
              "\n",
              "    [theme=dark] .colab-df-convert:hover {\n",
              "      background-color: #434B5C;\n",
              "      box-shadow: 0px 1px 3px 1px rgba(0, 0, 0, 0.15);\n",
              "      filter: drop-shadow(0px 1px 2px rgba(0, 0, 0, 0.3));\n",
              "      fill: #FFFFFF;\n",
              "    }\n",
              "  </style>\n",
              "\n",
              "      <script>\n",
              "        const buttonEl =\n",
              "          document.querySelector('#df-7b3f1b50-d919-4e67-a459-6605a6b5bb23 button.colab-df-convert');\n",
              "        buttonEl.style.display =\n",
              "          google.colab.kernel.accessAllowed ? 'block' : 'none';\n",
              "\n",
              "        async function convertToInteractive(key) {\n",
              "          const element = document.querySelector('#df-7b3f1b50-d919-4e67-a459-6605a6b5bb23');\n",
              "          const dataTable =\n",
              "            await google.colab.kernel.invokeFunction('convertToInteractive',\n",
              "                                                     [key], {});\n",
              "          if (!dataTable) return;\n",
              "\n",
              "          const docLinkHtml = 'Like what you see? Visit the ' +\n",
              "            '<a target=\"_blank\" href=https://colab.research.google.com/notebooks/data_table.ipynb>data table notebook</a>'\n",
              "            + ' to learn more about interactive tables.';\n",
              "          element.innerHTML = '';\n",
              "          dataTable['output_type'] = 'display_data';\n",
              "          await google.colab.output.renderOutput(dataTable, element);\n",
              "          const docLink = document.createElement('div');\n",
              "          docLink.innerHTML = docLinkHtml;\n",
              "          element.appendChild(docLink);\n",
              "        }\n",
              "      </script>\n",
              "    </div>\n",
              "  </div>\n",
              "  "
            ]
          },
          "metadata": {},
          "execution_count": 137
        }
      ],
      "source": [
        "import pandas as pd\n",
        "import seaborn as sns\n",
        "from google.colab import files\n",
        "\n",
        "# Lendo o CSV \n",
        "\n",
        "df = pd.read_csv('/content/carro.csv',encoding='ISO-8859-1',sep=';')\n",
        "\n",
        "# Removendo a coluna ID\n",
        "\n",
        "df = df.drop('ID',axis=1)\n",
        "df.head()"
      ]
    },
    {
      "cell_type": "code",
      "source": [
        "# Removendo valores nulos\n",
        "\n",
        "print(df.isnull().sum())\n",
        "df = df.dropna().reset_index(drop=True)\n",
        "df.isnull().sum() "
      ],
      "metadata": {
        "colab": {
          "base_uri": "https://localhost:8080/"
        },
        "id": "FOqIGB6lrap6",
        "outputId": "37d9554a-8755-46c5-ce4a-ffa3007e0f2b"
      },
      "execution_count": 138,
      "outputs": [
        {
          "output_type": "stream",
          "name": "stdout",
          "text": [
            "Gênero               0\n",
            "Tipo de Carro        0\n",
            "Tamanho da Camisa    0\n",
            "Classe Social        0\n",
            "dtype: int64\n"
          ]
        },
        {
          "output_type": "execute_result",
          "data": {
            "text/plain": [
              "Gênero               0\n",
              "Tipo de Carro        0\n",
              "Tamanho da Camisa    0\n",
              "Classe Social        0\n",
              "dtype: int64"
            ]
          },
          "metadata": {},
          "execution_count": 138
        }
      ]
    },
    {
      "cell_type": "code",
      "source": [
        "# Hot encode de todas as classes \n",
        "\n",
        "for column in df.columns:\n",
        "  dumies = pd.get_dummies(df[column],prefix=column)\n",
        "  df = pd.concat([df,dumies],axis=1)\n",
        "  df = df.drop(column,axis=1)\n",
        "\n",
        "df.head()"
      ],
      "metadata": {
        "colab": {
          "base_uri": "https://localhost:8080/",
          "height": 268
        },
        "id": "1NwOVur1smes",
        "outputId": "1ecf83bd-1cf6-40f1-b940-82a42b0868b7"
      },
      "execution_count": 139,
      "outputs": [
        {
          "output_type": "execute_result",
          "data": {
            "text/plain": [
              "   Gênero_F  Gênero_M  Tipo de Carro_Esportivo  Tipo de Carro_Familiar  \\\n",
              "0         0         1                        0                       1   \n",
              "1         0         1                        1                       0   \n",
              "2         0         1                        1                       0   \n",
              "3         0         1                        1                       0   \n",
              "4         0         1                        1                       0   \n",
              "\n",
              "   Tipo de Carro_Luxo  Tamanho da Camisa_L  Tamanho da Camisa_M  \\\n",
              "0                   0                    0                    0   \n",
              "1                   0                    0                    1   \n",
              "2                   0                    0                    1   \n",
              "3                   0                    1                    0   \n",
              "4                   0                    0                    0   \n",
              "\n",
              "   Tamanho da Camisa_P  Tamanho da Camisa_X  Classe Social_B  Classe Social_C  \n",
              "0                    1                    0                0                1  \n",
              "1                    0                    0                0                1  \n",
              "2                    0                    0                0                1  \n",
              "3                    0                    0                0                1  \n",
              "4                    0                    1                0                1  "
            ],
            "text/html": [
              "\n",
              "  <div id=\"df-ae13bd62-9305-4dea-8622-b49ab2005019\">\n",
              "    <div class=\"colab-df-container\">\n",
              "      <div>\n",
              "<style scoped>\n",
              "    .dataframe tbody tr th:only-of-type {\n",
              "        vertical-align: middle;\n",
              "    }\n",
              "\n",
              "    .dataframe tbody tr th {\n",
              "        vertical-align: top;\n",
              "    }\n",
              "\n",
              "    .dataframe thead th {\n",
              "        text-align: right;\n",
              "    }\n",
              "</style>\n",
              "<table border=\"1\" class=\"dataframe\">\n",
              "  <thead>\n",
              "    <tr style=\"text-align: right;\">\n",
              "      <th></th>\n",
              "      <th>Gênero_F</th>\n",
              "      <th>Gênero_M</th>\n",
              "      <th>Tipo de Carro_Esportivo</th>\n",
              "      <th>Tipo de Carro_Familiar</th>\n",
              "      <th>Tipo de Carro_Luxo</th>\n",
              "      <th>Tamanho da Camisa_L</th>\n",
              "      <th>Tamanho da Camisa_M</th>\n",
              "      <th>Tamanho da Camisa_P</th>\n",
              "      <th>Tamanho da Camisa_X</th>\n",
              "      <th>Classe Social_B</th>\n",
              "      <th>Classe Social_C</th>\n",
              "    </tr>\n",
              "  </thead>\n",
              "  <tbody>\n",
              "    <tr>\n",
              "      <th>0</th>\n",
              "      <td>0</td>\n",
              "      <td>1</td>\n",
              "      <td>0</td>\n",
              "      <td>1</td>\n",
              "      <td>0</td>\n",
              "      <td>0</td>\n",
              "      <td>0</td>\n",
              "      <td>1</td>\n",
              "      <td>0</td>\n",
              "      <td>0</td>\n",
              "      <td>1</td>\n",
              "    </tr>\n",
              "    <tr>\n",
              "      <th>1</th>\n",
              "      <td>0</td>\n",
              "      <td>1</td>\n",
              "      <td>1</td>\n",
              "      <td>0</td>\n",
              "      <td>0</td>\n",
              "      <td>0</td>\n",
              "      <td>1</td>\n",
              "      <td>0</td>\n",
              "      <td>0</td>\n",
              "      <td>0</td>\n",
              "      <td>1</td>\n",
              "    </tr>\n",
              "    <tr>\n",
              "      <th>2</th>\n",
              "      <td>0</td>\n",
              "      <td>1</td>\n",
              "      <td>1</td>\n",
              "      <td>0</td>\n",
              "      <td>0</td>\n",
              "      <td>0</td>\n",
              "      <td>1</td>\n",
              "      <td>0</td>\n",
              "      <td>0</td>\n",
              "      <td>0</td>\n",
              "      <td>1</td>\n",
              "    </tr>\n",
              "    <tr>\n",
              "      <th>3</th>\n",
              "      <td>0</td>\n",
              "      <td>1</td>\n",
              "      <td>1</td>\n",
              "      <td>0</td>\n",
              "      <td>0</td>\n",
              "      <td>1</td>\n",
              "      <td>0</td>\n",
              "      <td>0</td>\n",
              "      <td>0</td>\n",
              "      <td>0</td>\n",
              "      <td>1</td>\n",
              "    </tr>\n",
              "    <tr>\n",
              "      <th>4</th>\n",
              "      <td>0</td>\n",
              "      <td>1</td>\n",
              "      <td>1</td>\n",
              "      <td>0</td>\n",
              "      <td>0</td>\n",
              "      <td>0</td>\n",
              "      <td>0</td>\n",
              "      <td>0</td>\n",
              "      <td>1</td>\n",
              "      <td>0</td>\n",
              "      <td>1</td>\n",
              "    </tr>\n",
              "  </tbody>\n",
              "</table>\n",
              "</div>\n",
              "      <button class=\"colab-df-convert\" onclick=\"convertToInteractive('df-ae13bd62-9305-4dea-8622-b49ab2005019')\"\n",
              "              title=\"Convert this dataframe to an interactive table.\"\n",
              "              style=\"display:none;\">\n",
              "        \n",
              "  <svg xmlns=\"http://www.w3.org/2000/svg\" height=\"24px\"viewBox=\"0 0 24 24\"\n",
              "       width=\"24px\">\n",
              "    <path d=\"M0 0h24v24H0V0z\" fill=\"none\"/>\n",
              "    <path d=\"M18.56 5.44l.94 2.06.94-2.06 2.06-.94-2.06-.94-.94-2.06-.94 2.06-2.06.94zm-11 1L8.5 8.5l.94-2.06 2.06-.94-2.06-.94L8.5 2.5l-.94 2.06-2.06.94zm10 10l.94 2.06.94-2.06 2.06-.94-2.06-.94-.94-2.06-.94 2.06-2.06.94z\"/><path d=\"M17.41 7.96l-1.37-1.37c-.4-.4-.92-.59-1.43-.59-.52 0-1.04.2-1.43.59L10.3 9.45l-7.72 7.72c-.78.78-.78 2.05 0 2.83L4 21.41c.39.39.9.59 1.41.59.51 0 1.02-.2 1.41-.59l7.78-7.78 2.81-2.81c.8-.78.8-2.07 0-2.86zM5.41 20L4 18.59l7.72-7.72 1.47 1.35L5.41 20z\"/>\n",
              "  </svg>\n",
              "      </button>\n",
              "      \n",
              "  <style>\n",
              "    .colab-df-container {\n",
              "      display:flex;\n",
              "      flex-wrap:wrap;\n",
              "      gap: 12px;\n",
              "    }\n",
              "\n",
              "    .colab-df-convert {\n",
              "      background-color: #E8F0FE;\n",
              "      border: none;\n",
              "      border-radius: 50%;\n",
              "      cursor: pointer;\n",
              "      display: none;\n",
              "      fill: #1967D2;\n",
              "      height: 32px;\n",
              "      padding: 0 0 0 0;\n",
              "      width: 32px;\n",
              "    }\n",
              "\n",
              "    .colab-df-convert:hover {\n",
              "      background-color: #E2EBFA;\n",
              "      box-shadow: 0px 1px 2px rgba(60, 64, 67, 0.3), 0px 1px 3px 1px rgba(60, 64, 67, 0.15);\n",
              "      fill: #174EA6;\n",
              "    }\n",
              "\n",
              "    [theme=dark] .colab-df-convert {\n",
              "      background-color: #3B4455;\n",
              "      fill: #D2E3FC;\n",
              "    }\n",
              "\n",
              "    [theme=dark] .colab-df-convert:hover {\n",
              "      background-color: #434B5C;\n",
              "      box-shadow: 0px 1px 3px 1px rgba(0, 0, 0, 0.15);\n",
              "      filter: drop-shadow(0px 1px 2px rgba(0, 0, 0, 0.3));\n",
              "      fill: #FFFFFF;\n",
              "    }\n",
              "  </style>\n",
              "\n",
              "      <script>\n",
              "        const buttonEl =\n",
              "          document.querySelector('#df-ae13bd62-9305-4dea-8622-b49ab2005019 button.colab-df-convert');\n",
              "        buttonEl.style.display =\n",
              "          google.colab.kernel.accessAllowed ? 'block' : 'none';\n",
              "\n",
              "        async function convertToInteractive(key) {\n",
              "          const element = document.querySelector('#df-ae13bd62-9305-4dea-8622-b49ab2005019');\n",
              "          const dataTable =\n",
              "            await google.colab.kernel.invokeFunction('convertToInteractive',\n",
              "                                                     [key], {});\n",
              "          if (!dataTable) return;\n",
              "\n",
              "          const docLinkHtml = 'Like what you see? Visit the ' +\n",
              "            '<a target=\"_blank\" href=https://colab.research.google.com/notebooks/data_table.ipynb>data table notebook</a>'\n",
              "            + ' to learn more about interactive tables.';\n",
              "          element.innerHTML = '';\n",
              "          dataTable['output_type'] = 'display_data';\n",
              "          await google.colab.output.renderOutput(dataTable, element);\n",
              "          const docLink = document.createElement('div');\n",
              "          docLink.innerHTML = docLinkHtml;\n",
              "          element.appendChild(docLink);\n",
              "        }\n",
              "      </script>\n",
              "    </div>\n",
              "  </div>\n",
              "  "
            ]
          },
          "metadata": {},
          "execution_count": 139
        }
      ]
    },
    {
      "cell_type": "code",
      "source": [
        "# Definindo os valores preditores e preditos\n",
        "# Sendo os preditores  ['Gênero_F', 'Gênero_M', 'Tipo de Carro_Esportivo',Tipo de Carro_Familiar', 'Tipo de Carro_Luxo', 'Tamanho da Camisa_L','Tamanho da Camisa_M', 'Tamanho da Camisa_P', 'Tamanho da Camisa_X']\n",
        "# Sendo os preditos ['Classe Social_B', 'Classe Social_C']\n",
        "\n",
        "y = df[['Classe Social_B', 'Classe Social_C']]\n",
        "df = df.drop(['Classe Social_B', 'Classe Social_C'],axis=1)\n",
        "X = df"
      ],
      "metadata": {
        "id": "abQ1uSu4to9_"
      },
      "execution_count": 140,
      "outputs": []
    },
    {
      "cell_type": "code",
      "source": [
        "from sklearn.model_selection import train_test_split\n",
        "\n",
        "# Separando os dados para treino e teste\n",
        "\n",
        "X_train, X_test, y_train, y_test = train_test_split(X, y, test_size=0.3, random_state=1) "
      ],
      "metadata": {
        "id": "YxqMqjpxwiA9"
      },
      "execution_count": 141,
      "outputs": []
    },
    {
      "cell_type": "code",
      "source": [
        "from sklearn import tree\n",
        "\n",
        "# Classificando com o modelo árvore de decisão \n",
        "\n",
        "clf = tree.DecisionTreeClassifier()\n",
        "clf = clf.fit(X_train, y_train)"
      ],
      "metadata": {
        "id": "rmSlcNiRqP08"
      },
      "execution_count": 142,
      "outputs": []
    },
    {
      "cell_type": "code",
      "source": [
        "# Plotando o resultado da classificação\n",
        "\n",
        "tree.plot_tree(clf)"
      ],
      "metadata": {
        "colab": {
          "base_uri": "https://localhost:8080/",
          "height": 445
        },
        "id": "8eKxBJ6nuBAR",
        "outputId": "7178d70f-45fd-4ab1-9c6a-8e72927055dd"
      },
      "execution_count": 143,
      "outputs": [
        {
          "output_type": "execute_result",
          "data": {
            "text/plain": [
              "[Text(0.7142857142857143, 0.9166666666666666, 'x[2] <= 0.5\\ngini = 0.5\\nsamples = 14\\nvalue = [[7, 7]\\n[7, 7]]'),\n",
              " Text(0.5714285714285714, 0.75, 'x[6] <= 0.5\\ngini = 0.346\\nsamples = 9\\nvalue = [[2, 7]\\n[7, 2]]'),\n",
              " Text(0.42857142857142855, 0.5833333333333334, 'x[8] <= 0.5\\ngini = 0.444\\nsamples = 6\\nvalue = [[2, 4]\\n[4, 2]]'),\n",
              " Text(0.2857142857142857, 0.4166666666666667, 'x[0] <= 0.5\\ngini = 0.5\\nsamples = 4\\nvalue = [[2, 2]\\n[2, 2]]'),\n",
              " Text(0.14285714285714285, 0.25, 'gini = 0.0\\nsamples = 1\\nvalue = [[1, 0]\\n[0, 1]]'),\n",
              " Text(0.42857142857142855, 0.25, 'x[7] <= 0.5\\ngini = 0.444\\nsamples = 3\\nvalue = [[1, 2]\\n[2, 1]]'),\n",
              " Text(0.2857142857142857, 0.08333333333333333, 'gini = 0.5\\nsamples = 2\\nvalue = [[1, 1]\\n[1, 1]]'),\n",
              " Text(0.5714285714285714, 0.08333333333333333, 'gini = 0.0\\nsamples = 1\\nvalue = [[0, 1]\\n[1, 0]]'),\n",
              " Text(0.5714285714285714, 0.4166666666666667, 'gini = 0.0\\nsamples = 2\\nvalue = [[0, 2]\\n[2, 0]]'),\n",
              " Text(0.7142857142857143, 0.5833333333333334, 'gini = 0.0\\nsamples = 3\\nvalue = [[0, 3]\\n[3, 0]]'),\n",
              " Text(0.8571428571428571, 0.75, 'gini = 0.0\\nsamples = 5\\nvalue = [[5, 0]\\n[0, 5]]')]"
            ]
          },
          "metadata": {},
          "execution_count": 143
        },
        {
          "output_type": "display_data",
          "data": {
            "text/plain": [
              "<Figure size 432x288 with 1 Axes>"
            ],
            "image/png": "[encoded data removed]"
          },
          "metadata": {
            "needs_background": "light"
          }
        }
      ]
    },
    {
      "cell_type": "code",
      "source": [
        "import graphviz \n",
        "\n",
        "dot_data = tree.export_graphviz(clf, out_file=None) \n",
        "graph = graphviz.Source(dot_data) \n",
        "graph.render(\"carros_grafico\") \n",
        "\n",
        "dot_data = tree.export_graphviz(clf, out_file=None, \n",
        "                     feature_names=X.columns,  \n",
        "                     class_names=y.columns,  \n",
        "                     filled=True, rounded=True,  \n",
        "                     special_characters=True)  \n",
        "graph = graphviz.Source(dot_data)  \n",
        "graph"
      ],
      "metadata": {
        "colab": {
          "base_uri": "https://localhost:8080/",
          "height": 915
        },
        "id": "eJnuhjyz2Ceu",
        "outputId": "13b4790f-bb69-43a0-b51f-e194daa010a3"
      },
      "execution_count": 144,
      "outputs": [
        {
          "output_type": "execute_result",
          "data": {
            "image/svg+xml": "<?xml version=\"1.0\" encoding=\"UTF-8\" standalone=\"no\"?>\n<!DOCTYPE svg PUBLIC \"-//W3C//DTD SVG 1.1//EN\"\n \"http://www.w3.org/Graphics/SVG/1.1/DTD/svg11.dtd\">\n<!-- Generated by graphviz version 2.43.0 (0)\n -->\n<!-- Title: Tree Pages: 1 -->\n<svg width=\"493pt\" height=\"671pt\"\n viewBox=\"0.00 0.00 493.00 671.00\" xmlns=\"http://www.w3.org/2000/svg\" xmlns:xlink=\"http://www.w3.org/1999/xlink\">\n<g id=\"graph0\" class=\"graph\" transform=\"scale(1 1) rotate(0) translate(4 667)\">\n<title>Tree</title>\n<polygon fill=\"white\" stroke=\"transparent\" points=\"-4,4 -4,-667 489,-667 489,4 -4,4\"/>\n<!-- 0 -->\n<g id=\"node1\" class=\"node\">\n<title>0</title>\n<path fill=\"#ffffff\" stroke=\"black\" d=\"M440.5,-663C440.5,-663 267.5,-663 267.5,-663 261.5,-663 255.5,-657 255.5,-651 255.5,-651 255.5,-592 255.5,-592 255.5,-586 261.5,-580 267.5,-580 267.5,-580 440.5,-580 440.5,-580 446.5,-580 452.5,-586 452.5,-592 452.5,-592 452.5,-651 452.5,-651 452.5,-657 446.5,-663 440.5,-663\"/>\n<text text-anchor=\"start\" x=\"263.5\" y=\"-647.8\" font-family=\"Helvetica,sans-Serif\" font-size=\"14.00\">Tipo de Carro_Esportivo ≤ 0.5</text>\n<text text-anchor=\"start\" x=\"326\" y=\"-632.8\" font-family=\"Helvetica,sans-Serif\" font-size=\"14.00\">gini = 0.5</text>\n<text text-anchor=\"start\" x=\"313\" y=\"-617.8\" font-family=\"Helvetica,sans-Serif\" font-size=\"14.00\">samples = 14</text>\n<text text-anchor=\"start\" x=\"313\" y=\"-602.8\" font-family=\"Helvetica,sans-Serif\" font-size=\"14.00\">value = [[7, 7]</text>\n<text text-anchor=\"start\" x=\"337\" y=\"-587.8\" font-family=\"Helvetica,sans-Serif\" font-size=\"14.00\">[7, 7]]</text>\n</g>\n<!-- 1 -->\n<g id=\"node2\" class=\"node\">\n<title>1</title>\n<path fill=\"#f7d8c2\" stroke=\"black\" d=\"M357.5,-544C357.5,-544 186.5,-544 186.5,-544 180.5,-544 174.5,-538 174.5,-532 174.5,-532 174.5,-473 174.5,-473 174.5,-467 180.5,-461 186.5,-461 186.5,-461 357.5,-461 357.5,-461 363.5,-461 369.5,-467 369.5,-473 369.5,-473 369.5,-532 369.5,-532 369.5,-538 363.5,-544 357.5,-544\"/>\n<text text-anchor=\"start\" x=\"182.5\" y=\"-528.8\" font-family=\"Helvetica,sans-Serif\" font-size=\"14.00\">Tamanho da Camisa_M ≤ 0.5</text>\n<text text-anchor=\"start\" x=\"236.5\" y=\"-513.8\" font-family=\"Helvetica,sans-Serif\" font-size=\"14.00\">gini = 0.346</text>\n<text text-anchor=\"start\" x=\"234.5\" y=\"-498.8\" font-family=\"Helvetica,sans-Serif\" font-size=\"14.00\">samples = 9</text>\n<text text-anchor=\"start\" x=\"231\" y=\"-483.8\" font-family=\"Helvetica,sans-Serif\" font-size=\"14.00\">value = [[2, 7]</text>\n<text text-anchor=\"start\" x=\"255\" y=\"-468.8\" font-family=\"Helvetica,sans-Serif\" font-size=\"14.00\">[7, 2]]</text>\n</g>\n<!-- 0&#45;&gt;1 -->\n<g id=\"edge1\" class=\"edge\">\n<title>0&#45;&gt;1</title>\n<path fill=\"none\" stroke=\"black\" d=\"M325.55,-579.91C319.32,-571.01 312.66,-561.51 306.22,-552.33\"/>\n<polygon fill=\"black\" stroke=\"black\" points=\"309,-550.2 300.4,-544.02 303.27,-554.22 309,-550.2\"/>\n<text text-anchor=\"middle\" x=\"296.07\" y=\"-564.94\" font-family=\"Helvetica,sans-Serif\" font-size=\"14.00\">True</text>\n</g>\n<!-- 10 -->\n<g id=\"node11\" class=\"node\">\n<title>10</title>\n<path fill=\"#e58139\" stroke=\"black\" d=\"M473,-536.5C473,-536.5 399,-536.5 399,-536.5 393,-536.5 387,-530.5 387,-524.5 387,-524.5 387,-480.5 387,-480.5 387,-474.5 393,-468.5 399,-468.5 399,-468.5 473,-468.5 473,-468.5 479,-468.5 485,-474.5 485,-480.5 485,-480.5 485,-524.5 485,-524.5 485,-530.5 479,-536.5 473,-536.5\"/>\n<text text-anchor=\"start\" x=\"408\" y=\"-521.3\" font-family=\"Helvetica,sans-Serif\" font-size=\"14.00\">gini = 0.0</text>\n<text text-anchor=\"start\" x=\"398.5\" y=\"-506.3\" font-family=\"Helvetica,sans-Serif\" font-size=\"14.00\">samples = 5</text>\n<text text-anchor=\"start\" x=\"395\" y=\"-491.3\" font-family=\"Helvetica,sans-Serif\" font-size=\"14.00\">value = [[5, 0]</text>\n<text text-anchor=\"start\" x=\"419\" y=\"-476.3\" font-family=\"Helvetica,sans-Serif\" font-size=\"14.00\">[0, 5]]</text>\n</g>\n<!-- 0&#45;&gt;10 -->\n<g id=\"edge10\" class=\"edge\">\n<title>0&#45;&gt;10</title>\n<path fill=\"none\" stroke=\"black\" d=\"M382.45,-579.91C390.34,-568.65 398.91,-556.42 406.84,-545.11\"/>\n<polygon fill=\"black\" stroke=\"black\" points=\"409.88,-546.86 412.75,-536.67 404.15,-542.85 409.88,-546.86\"/>\n<text text-anchor=\"middle\" x=\"417.09\" y=\"-557.59\" font-family=\"Helvetica,sans-Serif\" font-size=\"14.00\">False</text>\n</g>\n<!-- 2 -->\n<g id=\"node3\" class=\"node\">\n<title>2</title>\n<path fill=\"#fcf1e9\" stroke=\"black\" d=\"M275,-425C275,-425 107,-425 107,-425 101,-425 95,-419 95,-413 95,-413 95,-354 95,-354 95,-348 101,-342 107,-342 107,-342 275,-342 275,-342 281,-342 287,-348 287,-354 287,-354 287,-413 287,-413 287,-419 281,-425 275,-425\"/>\n<text text-anchor=\"start\" x=\"103\" y=\"-409.8\" font-family=\"Helvetica,sans-Serif\" font-size=\"14.00\">Tamanho da Camisa_X ≤ 0.5</text>\n<text text-anchor=\"start\" x=\"155.5\" y=\"-394.8\" font-family=\"Helvetica,sans-Serif\" font-size=\"14.00\">gini = 0.444</text>\n<text text-anchor=\"start\" x=\"153.5\" y=\"-379.8\" font-family=\"Helvetica,sans-Serif\" font-size=\"14.00\">samples = 6</text>\n<text text-anchor=\"start\" x=\"150\" y=\"-364.8\" font-family=\"Helvetica,sans-Serif\" font-size=\"14.00\">value = [[2, 4]</text>\n<text text-anchor=\"start\" x=\"174\" y=\"-349.8\" font-family=\"Helvetica,sans-Serif\" font-size=\"14.00\">[4, 2]]</text>\n</g>\n<!-- 1&#45;&gt;2 -->\n<g id=\"edge2\" class=\"edge\">\n<title>1&#45;&gt;2</title>\n<path fill=\"none\" stroke=\"black\" d=\"M243.9,-460.91C237.74,-452.01 231.16,-442.51 224.81,-433.33\"/>\n<polygon fill=\"black\" stroke=\"black\" points=\"227.62,-431.25 219.05,-425.02 221.87,-435.24 227.62,-431.25\"/>\n</g>\n<!-- 9 -->\n<g id=\"node10\" class=\"node\">\n<title>9</title>\n<path fill=\"#e58139\" stroke=\"black\" d=\"M391,-417.5C391,-417.5 317,-417.5 317,-417.5 311,-417.5 305,-411.5 305,-405.5 305,-405.5 305,-361.5 305,-361.5 305,-355.5 311,-349.5 317,-349.5 317,-349.5 391,-349.5 391,-349.5 397,-349.5 403,-355.5 403,-361.5 403,-361.5 403,-405.5 403,-405.5 403,-411.5 397,-417.5 391,-417.5\"/>\n<text text-anchor=\"start\" x=\"326\" y=\"-402.3\" font-family=\"Helvetica,sans-Serif\" font-size=\"14.00\">gini = 0.0</text>\n<text text-anchor=\"start\" x=\"316.5\" y=\"-387.3\" font-family=\"Helvetica,sans-Serif\" font-size=\"14.00\">samples = 3</text>\n<text text-anchor=\"start\" x=\"313\" y=\"-372.3\" font-family=\"Helvetica,sans-Serif\" font-size=\"14.00\">value = [[0, 3]</text>\n<text text-anchor=\"start\" x=\"337\" y=\"-357.3\" font-family=\"Helvetica,sans-Serif\" font-size=\"14.00\">[3, 0]]</text>\n</g>\n<!-- 1&#45;&gt;9 -->\n<g id=\"edge9\" class=\"edge\">\n<title>1&#45;&gt;9</title>\n<path fill=\"none\" stroke=\"black\" d=\"M300.45,-460.91C308.34,-449.65 316.91,-437.42 324.84,-426.11\"/>\n<polygon fill=\"black\" stroke=\"black\" points=\"327.88,-427.86 330.75,-417.67 322.15,-423.85 327.88,-427.86\"/>\n</g>\n<!-- 3 -->\n<g id=\"node4\" class=\"node\">\n<title>3</title>\n<path fill=\"#ffffff\" stroke=\"black\" d=\"M174,-306C174,-306 86,-306 86,-306 80,-306 74,-300 74,-294 74,-294 74,-235 74,-235 74,-229 80,-223 86,-223 86,-223 174,-223 174,-223 180,-223 186,-229 186,-235 186,-235 186,-294 186,-294 186,-300 180,-306 174,-306\"/>\n<text text-anchor=\"start\" x=\"82\" y=\"-290.8\" font-family=\"Helvetica,sans-Serif\" font-size=\"14.00\">Gênero_F ≤ 0.5</text>\n<text text-anchor=\"start\" x=\"102\" y=\"-275.8\" font-family=\"Helvetica,sans-Serif\" font-size=\"14.00\">gini = 0.5</text>\n<text text-anchor=\"start\" x=\"92.5\" y=\"-260.8\" font-family=\"Helvetica,sans-Serif\" font-size=\"14.00\">samples = 4</text>\n<text text-anchor=\"start\" x=\"89\" y=\"-245.8\" font-family=\"Helvetica,sans-Serif\" font-size=\"14.00\">value = [[2, 2]</text>\n<text text-anchor=\"start\" x=\"113\" y=\"-230.8\" font-family=\"Helvetica,sans-Serif\" font-size=\"14.00\">[2, 2]]</text>\n</g>\n<!-- 2&#45;&gt;3 -->\n<g id=\"edge3\" class=\"edge\">\n<title>2&#45;&gt;3</title>\n<path fill=\"none\" stroke=\"black\" d=\"M169.84,-341.91C165.29,-333.2 160.45,-323.9 155.75,-314.89\"/>\n<polygon fill=\"black\" stroke=\"black\" points=\"158.85,-313.27 151.13,-306.02 152.65,-316.51 158.85,-313.27\"/>\n</g>\n<!-- 8 -->\n<g id=\"node9\" class=\"node\">\n<title>8</title>\n<path fill=\"#e58139\" stroke=\"black\" d=\"M290,-298.5C290,-298.5 216,-298.5 216,-298.5 210,-298.5 204,-292.5 204,-286.5 204,-286.5 204,-242.5 204,-242.5 204,-236.5 210,-230.5 216,-230.5 216,-230.5 290,-230.5 290,-230.5 296,-230.5 302,-236.5 302,-242.5 302,-242.5 302,-286.5 302,-286.5 302,-292.5 296,-298.5 290,-298.5\"/>\n<text text-anchor=\"start\" x=\"225\" y=\"-283.3\" font-family=\"Helvetica,sans-Serif\" font-size=\"14.00\">gini = 0.0</text>\n<text text-anchor=\"start\" x=\"215.5\" y=\"-268.3\" font-family=\"Helvetica,sans-Serif\" font-size=\"14.00\">samples = 2</text>\n<text text-anchor=\"start\" x=\"212\" y=\"-253.3\" font-family=\"Helvetica,sans-Serif\" font-size=\"14.00\">value = [[0, 2]</text>\n<text text-anchor=\"start\" x=\"236\" y=\"-238.3\" font-family=\"Helvetica,sans-Serif\" font-size=\"14.00\">[2, 0]]</text>\n</g>\n<!-- 2&#45;&gt;8 -->\n<g id=\"edge8\" class=\"edge\">\n<title>2&#45;&gt;8</title>\n<path fill=\"none\" stroke=\"black\" d=\"M212.51,-341.91C218.36,-330.87 224.7,-318.9 230.6,-307.77\"/>\n<polygon fill=\"black\" stroke=\"black\" points=\"233.83,-309.14 235.42,-298.67 227.65,-305.86 233.83,-309.14\"/>\n</g>\n<!-- 4 -->\n<g id=\"node5\" class=\"node\">\n<title>4</title>\n<path fill=\"#e58139\" stroke=\"black\" d=\"M86,-179.5C86,-179.5 12,-179.5 12,-179.5 6,-179.5 0,-173.5 0,-167.5 0,-167.5 0,-123.5 0,-123.5 0,-117.5 6,-111.5 12,-111.5 12,-111.5 86,-111.5 86,-111.5 92,-111.5 98,-117.5 98,-123.5 98,-123.5 98,-167.5 98,-167.5 98,-173.5 92,-179.5 86,-179.5\"/>\n<text text-anchor=\"start\" x=\"21\" y=\"-164.3\" font-family=\"Helvetica,sans-Serif\" font-size=\"14.00\">gini = 0.0</text>\n<text text-anchor=\"start\" x=\"11.5\" y=\"-149.3\" font-family=\"Helvetica,sans-Serif\" font-size=\"14.00\">samples = 1</text>\n<text text-anchor=\"start\" x=\"8\" y=\"-134.3\" font-family=\"Helvetica,sans-Serif\" font-size=\"14.00\">value = [[1, 0]</text>\n<text text-anchor=\"start\" x=\"32\" y=\"-119.3\" font-family=\"Helvetica,sans-Serif\" font-size=\"14.00\">[0, 1]]</text>\n</g>\n<!-- 3&#45;&gt;4 -->\n<g id=\"edge4\" class=\"edge\">\n<title>3&#45;&gt;4</title>\n<path fill=\"none\" stroke=\"black\" d=\"M101.9,-222.91C94.11,-211.65 85.64,-199.42 77.8,-188.11\"/>\n<polygon fill=\"black\" stroke=\"black\" points=\"80.53,-185.9 71.96,-179.67 74.78,-189.88 80.53,-185.9\"/>\n</g>\n<!-- 5 -->\n<g id=\"node6\" class=\"node\">\n<title>5</title>\n<path fill=\"#fcf1e9\" stroke=\"black\" d=\"M296,-187C296,-187 128,-187 128,-187 122,-187 116,-181 116,-175 116,-175 116,-116 116,-116 116,-110 122,-104 128,-104 128,-104 296,-104 296,-104 302,-104 308,-110 308,-116 308,-116 308,-175 308,-175 308,-181 302,-187 296,-187\"/>\n<text text-anchor=\"start\" x=\"124\" y=\"-171.8\" font-family=\"Helvetica,sans-Serif\" font-size=\"14.00\">Tamanho da Camisa_P ≤ 0.5</text>\n<text text-anchor=\"start\" x=\"176.5\" y=\"-156.8\" font-family=\"Helvetica,sans-Serif\" font-size=\"14.00\">gini = 0.444</text>\n<text text-anchor=\"start\" x=\"174.5\" y=\"-141.8\" font-family=\"Helvetica,sans-Serif\" font-size=\"14.00\">samples = 3</text>\n<text text-anchor=\"start\" x=\"171\" y=\"-126.8\" font-family=\"Helvetica,sans-Serif\" font-size=\"14.00\">value = [[1, 2]</text>\n<text text-anchor=\"start\" x=\"195\" y=\"-111.8\" font-family=\"Helvetica,sans-Serif\" font-size=\"14.00\">[2, 1]]</text>\n</g>\n<!-- 3&#45;&gt;5 -->\n<g id=\"edge5\" class=\"edge\">\n<title>3&#45;&gt;5</title>\n<path fill=\"none\" stroke=\"black\" d=\"M158.45,-222.91C164.68,-214.01 171.34,-204.51 177.78,-195.33\"/>\n<polygon fill=\"black\" stroke=\"black\" points=\"180.73,-197.22 183.6,-187.02 175,-193.2 180.73,-197.22\"/>\n</g>\n<!-- 6 -->\n<g id=\"node7\" class=\"node\">\n<title>6</title>\n<path fill=\"#ffffff\" stroke=\"black\" d=\"M191,-68C191,-68 117,-68 117,-68 111,-68 105,-62 105,-56 105,-56 105,-12 105,-12 105,-6 111,0 117,0 117,0 191,0 191,0 197,0 203,-6 203,-12 203,-12 203,-56 203,-56 203,-62 197,-68 191,-68\"/>\n<text text-anchor=\"start\" x=\"126\" y=\"-52.8\" font-family=\"Helvetica,sans-Serif\" font-size=\"14.00\">gini = 0.5</text>\n<text text-anchor=\"start\" x=\"116.5\" y=\"-37.8\" font-family=\"Helvetica,sans-Serif\" font-size=\"14.00\">samples = 2</text>\n<text text-anchor=\"start\" x=\"113\" y=\"-22.8\" font-family=\"Helvetica,sans-Serif\" font-size=\"14.00\">value = [[1, 1]</text>\n<text text-anchor=\"start\" x=\"137\" y=\"-7.8\" font-family=\"Helvetica,sans-Serif\" font-size=\"14.00\">[1, 1]]</text>\n</g>\n<!-- 5&#45;&gt;6 -->\n<g id=\"edge6\" class=\"edge\">\n<title>5&#45;&gt;6</title>\n<path fill=\"none\" stroke=\"black\" d=\"M190.4,-103.73C185.81,-95.06 180.96,-85.9 176.34,-77.18\"/>\n<polygon fill=\"black\" stroke=\"black\" points=\"179.41,-75.5 171.64,-68.3 173.23,-78.77 179.41,-75.5\"/>\n</g>\n<!-- 7 -->\n<g id=\"node8\" class=\"node\">\n<title>7</title>\n<path fill=\"#e58139\" stroke=\"black\" d=\"M307,-68C307,-68 233,-68 233,-68 227,-68 221,-62 221,-56 221,-56 221,-12 221,-12 221,-6 227,0 233,0 233,0 307,0 307,0 313,0 319,-6 319,-12 319,-12 319,-56 319,-56 319,-62 313,-68 307,-68\"/>\n<text text-anchor=\"start\" x=\"242\" y=\"-52.8\" font-family=\"Helvetica,sans-Serif\" font-size=\"14.00\">gini = 0.0</text>\n<text text-anchor=\"start\" x=\"232.5\" y=\"-37.8\" font-family=\"Helvetica,sans-Serif\" font-size=\"14.00\">samples = 1</text>\n<text text-anchor=\"start\" x=\"229\" y=\"-22.8\" font-family=\"Helvetica,sans-Serif\" font-size=\"14.00\">value = [[0, 1]</text>\n<text text-anchor=\"start\" x=\"253\" y=\"-7.8\" font-family=\"Helvetica,sans-Serif\" font-size=\"14.00\">[1, 0]]</text>\n</g>\n<!-- 5&#45;&gt;7 -->\n<g id=\"edge7\" class=\"edge\">\n<title>5&#45;&gt;7</title>\n<path fill=\"none\" stroke=\"black\" d=\"M233.6,-103.73C238.19,-95.06 243.04,-85.9 247.66,-77.18\"/>\n<polygon fill=\"black\" stroke=\"black\" points=\"250.77,-78.77 252.36,-68.3 244.59,-75.5 250.77,-78.77\"/>\n</g>\n</g>\n</svg>\n",
            "text/plain": [
              "<graphviz.sources.Source at 0x7fc87948a9a0>"
            ]
          },
          "metadata": {},
          "execution_count": 144
        }
      ]
    },
    {
      "cell_type": "code",
      "source": [
        "import matplotlib.pyplot as plt\n",
        "\n",
        "# Plotando uma melhor imagem\n",
        "\n",
        "plt.figure(figsize=(12,12))\n",
        "tree.plot_tree(clf, fontsize=10)\n",
        "plt.show()"
      ],
      "metadata": {
        "colab": {
          "base_uri": "https://localhost:8080/",
          "height": 683
        },
        "id": "8fdq4BD2uL2i",
        "outputId": "80e076fe-9cce-4c0f-d8aa-38027da8be60"
      },
      "execution_count": 145,
      "outputs": [
        {
          "output_type": "display_data",
          "data": {
            "text/plain": [
              "<Figure size 864x864 with 1 Axes>"
            ],
            "image/png": "[encoded data removed]"
          },
          "metadata": {
            "needs_background": "light"
          }
        }
      ]
    },
    {
      "cell_type": "code",
      "source": [
        "# Fazendo uma predição \n",
        "\n",
        "y_pred = clf.predict(X_test)"
      ],
      "metadata": {
        "id": "pzkdj__0xnv7"
      },
      "execution_count": 146,
      "outputs": []
    },
    {
      "cell_type": "code",
      "source": [
        "from sklearn.neural_network import MLPClassifier\n",
        "from sklearn.metrics import classification_report\n",
        "from sklearn.metrics import accuracy_score\n",
        "\n",
        "# Qualidade do modelo\n",
        "\n",
        "# Calcula o score\n",
        "print(\"Accuracy on training set: {:.2f}\".format(clf.score(X_train, y_train)))\n",
        "print(\"Accuracy on test set: {:.2f}\".format(clf.score(X_test, y_test)))\n",
        "\n",
        "# Matriz de classificação\n",
        "print('\\nClassification Report:\\n')\n",
        "print(classification_report(y_test, y_pred))\n",
        "\n",
        "# Score de acuracidade\n",
        "print('\\nAccuracy_score Report:\\n')\n",
        "print(accuracy_score(y_test, y_pred))"
      ],
      "metadata": {
        "colab": {
          "base_uri": "https://localhost:8080/"
        },
        "id": "QBqYh6NGvh6q",
        "outputId": "9d7f0b6d-fd53-4ddd-a81e-f61e64b77c0b"
      },
      "execution_count": 147,
      "outputs": [
        {
          "output_type": "stream",
          "name": "stdout",
          "text": [
            "Accuracy on training set: 0.86\n",
            "Accuracy on test set: 0.83\n",
            "\n",
            "Classification Report:\n",
            "\n",
            "              precision    recall  f1-score   support\n",
            "\n",
            "           0       1.00      0.67      0.80         3\n",
            "           1       0.75      1.00      0.86         3\n",
            "\n",
            "   micro avg       0.83      0.83      0.83         6\n",
            "   macro avg       0.88      0.83      0.83         6\n",
            "weighted avg       0.88      0.83      0.83         6\n",
            " samples avg       0.83      0.83      0.83         6\n",
            "\n",
            "\n",
            "Accuracy_score Report:\n",
            "\n",
            "0.8333333333333334\n"
          ]
        }
      ]
    },
    {
      "cell_type": "markdown",
      "source": [
        "\n",
        "# **Analise dos resultados**\n",
        "\n",
        "Durante a execução do referido exercício, foram avaliadas duas bases de dados,  a base de dados referente aos carros e a base de dados do restaurante. Os resultados obtidos indicam que a base de dados dos carros apresentou um desempenho superior em relação à base de dados do restaurante, no que se refere à capacidade de predição de dados.\n",
        "\n",
        "Os resultados obtidos na base de dados dos carros revelaram que houve uma taxa de acerto de 86% nos dados de treino, ou seja, foram corretamente preditos 86% dos dados utilizados para treinar o modelo de predição. Além disso, a base de teste apresentou uma taxa de acerto de 83%, o que evidencia a qualidade da classficação em generalizar os dados.\n",
        "\n",
        "Por outro lado, os resultados obtidos na base de dados do restaurante foram inferiores, apesar de ter sido obtida uma taxa de acerto de 100% nos dados de treino. Ao avaliar a base de teste, constatou-se que apenas 67% dos dados foram corretamente preditos, indicando uma menor qualidade na classificação de dados e na capacidade do modelo em generalizar. "
      ],
      "metadata": {
        "id": "SaCSprFB70gN"
      }
    }
  ]
}